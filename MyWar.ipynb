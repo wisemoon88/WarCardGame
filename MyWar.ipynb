{
 "cells": [
  {
   "cell_type": "code",
   "execution_count": 66,
   "metadata": {},
   "outputs": [],
   "source": [
    "#importing random library\n",
    "import random "
   ]
  },
  {
   "cell_type": "code",
   "execution_count": 67,
   "metadata": {},
   "outputs": [],
   "source": [
    "#define global variables\n",
    "suits = ('Hearts', 'Diamonds', 'Spades', 'Clubs')\n",
    "ranks = ('Two', 'Three', 'Four', 'Five', 'Six', 'Seven', 'Eight', 'Nine', 'Ten', 'Jack', 'Queen', 'King', 'Ace')\n",
    "values = {'Two':2, 'Three':3, 'Four':4, 'Five':5, 'Six':6, 'Seven':7, 'Eight':8, \n",
    "            'Nine':9, 'Ten':10, 'Jack':11, 'Queen':12, 'King':13, 'Ace':14}"
   ]
  },
  {
   "cell_type": "code",
   "execution_count": 68,
   "metadata": {},
   "outputs": [],
   "source": [
    "class Card:\n",
    "    \n",
    "    def __init__(self,suit,rank):\n",
    "        self.suit = suit\n",
    "        self.rank = rank\n",
    "        self.value = values[rank]\n",
    "        \n",
    "    def __str__(self):\n",
    "        return self.rank + ' of ' + self.suit"
   ]
  },
  {
   "cell_type": "code",
   "execution_count": 69,
   "metadata": {},
   "outputs": [],
   "source": [
    "class Deck:\n",
    "    \n",
    "    def __init__(self):\n",
    "        # Note this only happens once upon creation of a new Deck\n",
    "        self.all_cards = [] \n",
    "        for suit in suits:\n",
    "            for rank in ranks:\n",
    "                # This assumes the Card class has already been defined!\n",
    "                self.all_cards.append(Card(suit,rank))\n",
    "                \n",
    "    def shuffle(self):\n",
    "        # Note this doesn't return anything\n",
    "        random.shuffle(self.all_cards)\n",
    "        \n",
    "    def deal_one(self):\n",
    "        # Note we remove one card from the list of all_cards\n",
    "        return self.all_cards.pop()       \n",
    "    def __str__(self):\n",
    "        return f'the deck has {len(self.all_cards)} number of cards'"
   ]
  },
  {
   "cell_type": "code",
   "execution_count": 70,
   "metadata": {},
   "outputs": [],
   "source": [
    "class Player:\n",
    "    \n",
    "    def __init__(self,name):\n",
    "        self.name = name\n",
    "        # A new player has no cards\n",
    "        self.all_cards = [] \n",
    "        \n",
    "    def remove_one(self):\n",
    "        # Note we remove one card from the list of all_cards\n",
    "        # We state 0 to remove from the \"top\" of the deck\n",
    "        # We'll imagine index -1 as the bottom of the deck\n",
    "        return self.all_cards.pop(0)\n",
    "    \n",
    "    def add_cards(self,new_cards):\n",
    "        if type(new_cards) == type([]):\n",
    "            self.all_cards.extend(new_cards)\n",
    "        else:\n",
    "            self.all_cards.append(new_cards)\n",
    "    \n",
    "    \n",
    "    def __str__(self):\n",
    "        return f'Player {self.name} has {len(self.all_cards)} cards.'"
   ]
  },
  {
   "cell_type": "code",
   "execution_count": 73,
   "metadata": {},
   "outputs": [
    {
     "name": "stdout",
     "output_type": "stream",
     "text": [
      "the deck has 52 number of cards\n"
     ]
    }
   ],
   "source": [
    "#Game Setup\n",
    "player1 = Player('One')\n",
    "player2 = Player('Two')\n",
    "\n",
    "newdeck = Deck()\n",
    "newdeck.shuffle()\n",
    "\n",
    "print(newdeck)\n",
    "for x in range(26):\n",
    "    player1.add_cards(newdeck.deal_one())\n",
    "    player2.add_cards(newdeck.deal_one())"
   ]
  },
  {
   "cell_type": "code",
   "execution_count": 72,
   "metadata": {},
   "outputs": [
    {
     "name": "stdout",
     "output_type": "stream",
     "text": [
      "Player One has 26 cards.\n",
      "the deck has 0 number of cards\n"
     ]
    }
   ],
   "source": [
    "print(player1)\n",
    "print(newdeck)"
   ]
  },
  {
   "cell_type": "code",
   "execution_count": 45,
   "metadata": {},
   "outputs": [],
   "source": [
    "#While game is on\n",
    "game_on = True\n",
    "round_num = 0"
   ]
  },
  {
   "cell_type": "code",
   "execution_count": 46,
   "metadata": {},
   "outputs": [
    {
     "name": "stdout",
     "output_type": "stream",
     "text": [
      "round 1\n",
      "we are at WAR!!\n",
      "round 2\n",
      "we are at WAR!!\n",
      "round 3\n",
      "round 4\n",
      "round 5\n",
      "round 6\n",
      "we are at WAR!!\n",
      "round 7\n",
      "we are at WAR!!\n",
      "round 8\n",
      "round 9\n",
      "round 10\n",
      "round 11\n",
      "we are at WAR!!\n",
      "round 12\n",
      "player one is out of cards, player 2 wins!\n"
     ]
    }
   ],
   "source": [
    "while game_on:\n",
    "    round_num = round_num + 1\n",
    "    print(f\"round {round_num}\")\n",
    "    \n",
    "    if len(player1.all_cards)== 0:\n",
    "        print('player one is out of cards, player 2 wins!')\n",
    "        game_on = False\n",
    "        break\n",
    "\n",
    "    if len(player2.all_cards)== 0:\n",
    "        print('player two is out of cards, player 1 wins!')\n",
    "        game_on = False\n",
    "        break  \n",
    "\n",
    "#start a new round\n",
    "\n",
    "    player1_cards = []\n",
    "    player1_cards.append(player1.remove_one())\n",
    "\n",
    "    player2_cards = []\n",
    "    player2_cards.append(player2.remove_one())\n",
    "    \n",
    "# While at war\n",
    "    at_war = True\n",
    "    \n",
    "    while at_war:\n",
    "        if player1_cards[-1].value > player2_cards[-1].value:\n",
    "            player1.add_cards(player1_cards)\n",
    "            player1.add_cards(player2_cards)\n",
    "            \n",
    "            at_war = False\n",
    "            \n",
    "        if player1_cards[-1].value < player2_cards[-1].value:\n",
    "            player2.add_cards(player1_cards)\n",
    "            player2.add_cards(player2_cards)\n",
    "            \n",
    "            at_war = False\n",
    "            \n",
    "        else:\n",
    "            print(\"we are at WAR!!\")\n",
    "            \n",
    "            if len(player1.all_cards)<5:\n",
    "                print(\"player 1 unable to do war\")\n",
    "                print('Player 2 wins!!')\n",
    "                game_on = False\n",
    "                break\n",
    "\n",
    "            if len(player2.all_cards)<5:\n",
    "                print(\"player 2 unable to do war\")\n",
    "                print('Player 1 wins!!')\n",
    "                game_on = False\n",
    "                break\n",
    "                \n",
    "            else:\n",
    "                for x in range(5):\n",
    "                    player1_cards.append(player1.remove_one())\n",
    "                    player2_cards.append(player2.remove_one())\n",
    "                    \n",
    "                \n",
    "            \n",
    "            \n",
    "        \n",
    "        \n"
   ]
  },
  {
   "cell_type": "code",
   "execution_count": null,
   "metadata": {},
   "outputs": [],
   "source": []
  }
 ],
 "metadata": {
  "kernelspec": {
   "display_name": "Python 3",
   "language": "python",
   "name": "python3"
  },
  "language_info": {
   "codemirror_mode": {
    "name": "ipython",
    "version": 3
   },
   "file_extension": ".py",
   "mimetype": "text/x-python",
   "name": "python",
   "nbconvert_exporter": "python",
   "pygments_lexer": "ipython3",
   "version": "3.8.3"
  }
 },
 "nbformat": 4,
 "nbformat_minor": 4
}
